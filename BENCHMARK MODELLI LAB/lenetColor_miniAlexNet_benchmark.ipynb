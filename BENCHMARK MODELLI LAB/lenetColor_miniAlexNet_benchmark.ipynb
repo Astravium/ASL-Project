{
 "cells": [
  {
   "cell_type": "code",
   "execution_count": 1,
   "metadata": {},
   "outputs": [],
   "source": [
    "import torch\n",
    "from torch.optim import SGD\n",
    "from torch.utils.tensorboard import SummaryWriter\n",
    "from sklearn.metrics import accuracy_score\n",
    "from os.path import join\n",
    "import tqdm\n",
    "\n",
    "\n",
    "def train_classifier(model, train_loader, test_loader, exp_name='experiment', lr=0.01, epochs=10, momentum=0.99, logdir='logs'):\n",
    "    optimizer = SGD(model.parameters(), lr=lr, momentum=momentum)\n",
    "    criterion = nn.CrossEntropyLoss()\n",
    "    writer = SummaryWriter(join(logdir, exp_name))\n",
    "    loss_meter = AverageValueMeter()\n",
    "    acc_meter = AverageValueMeter()\n",
    "    #device = 'cuda' if torch.cuda.is_available() else 'cpu'\n",
    "    device = 'cpu'\n",
    "    model.to(device)\n",
    "\n",
    "    loader = {\n",
    "        'train': train_loader,\n",
    "        'test': test_loader\n",
    "    }\n",
    "\n",
    "    global_step = 0\n",
    "\n",
    "    for e in range(epochs):\n",
    "        for phase in ['train', 'test']:\n",
    "            if phase == 'train':\n",
    "                model.train()\n",
    "            else:\n",
    "                model.eval()\n",
    "\n",
    "            loss_meter.reset()\n",
    "            acc_meter.reset()\n",
    "\n",
    "            with torch.set_grad_enabled(phase=='train'):\n",
    "                with tqdm.tqdm(enumerate(loader[phase]), total=len(loader[phase]), desc=f\"{phase.capitalize()} Epoch {e+1}/{epochs}\", unit=\"batch\") as pbar:\n",
    "                    for i, batch in pbar:\n",
    "                        x = batch[0].to(device)\n",
    "                        y = batch[1].to(device)\n",
    "                        output = model(x)\n",
    "\n",
    "                        n = x.shape[0]\n",
    "                        global_step += n\n",
    "                        loss = criterion(output, y)\n",
    "\n",
    "                        if phase == 'train':\n",
    "                            loss.backward()\n",
    "                            optimizer.step()\n",
    "                            optimizer.zero_grad()\n",
    "\n",
    "                        accuracy = accuracy_score(y.to('cpu'), output.to('cpu').max(1)[1])\n",
    "                        loss_meter.add(loss.item(), n)\n",
    "                        acc_meter.add(accuracy, n)\n",
    "\n",
    "                        pbar.set_postfix(loss=loss_meter.value(), accuracy=acc_meter.value())\n",
    "\n",
    "                        if phase == 'train':\n",
    "                            writer.add_scalar('loss/train', loss_meter.value(), global_step=global_step)\n",
    "                            writer.add_scalar('accuracy/train', acc_meter.value(), global_step=global_step)\n",
    "            writer.add_scalar('loss/' + phase, loss_meter.value(), global_step=global_step)\n",
    "            writer.add_scalar('accuracy/' + phase, acc_meter.value(), global_step=global_step)\n",
    "\n",
    "        torch.save(model.state_dict(), '%s-%d.pth' % (exp_name, e+1))\n",
    "\n",
    "    return model"
   ]
  },
  {
   "cell_type": "code",
   "execution_count": 2,
   "metadata": {},
   "outputs": [],
   "source": [
    "import numpy as np\n",
    "def test_classifier(model, loader):\n",
    "    #device = \"cuda\" if torch.cuda.is_available() else \"cpu\"\n",
    "    device = 'cpu'\n",
    "    model.to(device)\n",
    "    model.eval()\n",
    "\n",
    "    predictions, labels = [], []\n",
    "\n",
    "    with torch.no_grad():\n",
    "        with tqdm.tqdm(loader, desc=\"Testing\") as pbar:\n",
    "            for batch in pbar:\n",
    "                x = batch[0].to(device)\n",
    "                y = batch[1].to(device)\n",
    "                output = model(x)\n",
    "                preds = output.to(\"cpu\").max(1)[1].numpy()\n",
    "                labs = y.to(\"cpu\").numpy()\n",
    "                predictions.extend(list(preds))\n",
    "                labels.extend(list(labs))\n",
    "\n",
    "    return np.array(predictions), np.array(labels)"
   ]
  },
  {
   "cell_type": "code",
   "execution_count": 3,
   "metadata": {},
   "outputs": [],
   "source": [
    "def perc_error(gt, pred):\n",
    "    return 100*(1-accuracy_score(gt, pred))"
   ]
  },
  {
   "cell_type": "code",
   "execution_count": 4,
   "metadata": {},
   "outputs": [],
   "source": [
    "class AverageValueMeter:\n",
    "    def __init__(self):\n",
    "        self.reset()\n",
    "        self.sum = 0\n",
    "        self.num = 0\n",
    "        \n",
    "    def reset(self):\n",
    "        self.sum = 0\n",
    "        self.num = 0\n",
    "        \n",
    "    def add(self, val, n=1):\n",
    "        self.sum += val*n\n",
    "        self.num += n\n",
    "        \n",
    "    def value(self):\n",
    "        try:\n",
    "            return self.sum/self.num\n",
    "        except:\n",
    "            return None"
   ]
  },
  {
   "cell_type": "code",
   "execution_count": 5,
   "metadata": {},
   "outputs": [],
   "source": [
    "from torch import nn\n",
    "class LeNetColor(nn.Module):\n",
    "    def __init__(self):\n",
    "        super(LeNetColor, self).__init__()\n",
    "        self.feature_extractor = nn.Sequential(\n",
    "            nn.Conv2d(3, 18, 5), # 3 canali in input, 18 mappe di feature in output, kernel 5x5 | input: 3x32x32 -> output: 18x28x28\n",
    "            nn.MaxPool2d(2), # Max pooling 2x2 | input: 18x28x28 -> output: 18x14x14\n",
    "            nn.ReLU(),\n",
    "            nn.Conv2d(18, 28, 5), # 18 canali in input, 28 mappe di feature in output, kernel 5x5 | input: 18x14x14 -> output: 28x10x10\n",
    "            nn.MaxPool2d(2), # Max pooling 2x2 | input: 28x10x10 -> output: 28x5x5\n",
    "            nn.ReLU()\n",
    "        )\n",
    "        \n",
    "        self.classifier = nn.Sequential(\n",
    "            nn.Linear(700,360), #input 28*5*5=700, output 360\n",
    "            nn.ReLU(),\n",
    "            nn.Linear(360,252), #input 360, output 252\n",
    "            nn.ReLU(),\n",
    "            nn.Linear(252,22) #input 252, output 100\n",
    "        )\n",
    "        \n",
    "    def forward(self, x):\n",
    "        x = self.feature_extractor(x)\n",
    "        x = self.classifier(x.view(x.shape[0], -1))\n",
    "        return x"
   ]
  },
  {
   "cell_type": "code",
   "execution_count": 6,
   "metadata": {},
   "outputs": [],
   "source": [
    "class MiniAlexNet(nn.Module):\n",
    "    def __init__(self, input_channels=3, out_classes=22):\n",
    "        super(MiniAlexNet, self).__init__()\n",
    "        self.feature_extractor = nn.Sequential(\n",
    "            nn.Conv2d(input_channels, 16, 5, padding=2), # 3 canali in input, 16 mappe di feature in output, kernel 5x5 | input: 3x32x32 -> output: 16x32x32\n",
    "            nn.MaxPool2d(2), # Max pooling 2x2 | input: 32x32x32 -> output: 32x16x16\n",
    "            nn.ReLU(),\n",
    "            \n",
    "            nn.Conv2d(16, 32, 5, padding=2), # 16 canali in input, 32 mappe di feature in output, kernel 5x5 | input: 16x16x16 -> output: 32x16x16\n",
    "            nn.MaxPool2d(2), # Max pooling 2x2 | input: 64x16x16 -> output: 64x8x8\n",
    "            nn.ReLU(),\n",
    "            \n",
    "            nn.Conv2d(32, 64, 3, padding=1), # 32 canali in input, 64 mappe di feature in output, kernel 3x3 | input: 32x8x8 -> output: 64x8x8\n",
    "            nn.ReLU(),\n",
    "            \n",
    "            nn.Conv2d(64, 128, 3, padding=1), # 64 canali in input, 128 mappe di feature in output, kernel 3x3 | input: 64x8x8 -> output: 128x8x8\n",
    "            nn.ReLU(),\n",
    "            \n",
    "            nn.Conv2d(128, 256, 3, padding=1), # 128 canali in input, 256 mappe di feature in output, kernel 3x3 | input: 128x8x8 -> output: 256x8x8\n",
    "            nn.MaxPool2d(2), # Max pooling 2x2 | input: 128x8x8 -> output: 128x4x4\n",
    "            nn.ReLU()\n",
    "        )\n",
    "        \n",
    "        self.classifier = nn.Sequential(\n",
    "            nn.Linear(256*4*4, 2048), #input 256*4*4=4096, output 2048\n",
    "            nn.ReLU(),\n",
    "            \n",
    "            nn.Linear(2048, 1024), #input 2048, output 1024\n",
    "            nn.ReLU(),\n",
    "            \n",
    "            nn.Linear(1024, out_classes) #input 1024, output 100\n",
    "        )\n",
    "        \n",
    "    def forward(self, x):\n",
    "        x = self.feature_extractor(x)\n",
    "        x = self.classifier(x.view(x.shape[0], -1))\n",
    "        return x"
   ]
  },
  {
   "cell_type": "code",
   "execution_count": 7,
   "metadata": {},
   "outputs": [],
   "source": [
    "from torchvision import transforms\n",
    "import os\n",
    "from PIL import Image\n",
    "import torch\n",
    "from sklearn.model_selection import train_test_split\n",
    "from torch.utils.data import DataLoader\n",
    "\n",
    "def split_train_val_test(dataset, perc=None):  # default 60% train, 10% val, 30% test\n",
    "\n",
    "    if perc is None:\n",
    "        perc = [0.6, 0.3]\n",
    "    train, test = train_test_split(dataset, test_size=perc[1], train_size=perc[0])\n",
    "\n",
    "    return train, test\n",
    "\n",
    "sign_labels = ['A', 'B', 'C', 'D', 'E', 'F', 'H', 'I', 'K', 'L', 'M', 'N', 'O', 'P', 'Q', 'R', 'T', 'U', 'V', 'W', 'X',\n",
    "               'Y']\n",
    "\n",
    "dict_alph = {'a': 0,'b': 1,'c': 2,'d': 3,'e': 4,'f': 5,'h': 6,'i': 7,'k': 8,'l': 9,'m': 10,\n",
    "             'n': 11,'o': 12,'p': 13,'q': 14,'r': 15,'t': 16,'u': 17,'v': 18,'w': 19,'x': 20,'y': 21\n",
    "}\n",
    "\n",
    "DATASET1_FOLDER = \"../data/Dataset_Elvio\"\n",
    "DATASET2_FOLDER = \"../data/Dataset_Manuel\"\n",
    "DATASET3_FOLDER = \"../data/Dataset_Michele\"\n",
    "DATASET4_FOLDER = \"../data/Dataset_Juliana\"\n",
    "\n",
    "DATASET_ESTESO = 'Dataset_michele_esteso/'\n",
    "datasets = [DATASET2_FOLDER]\n",
    "#datasets = [DATASET2_FOLDER, DATASET3_FOLDER, DATASET4_FOLDER,DATASET_ESTESO]\n",
    "#letters = ['a','b','c','d','e', 'f', 'h', 'i', 'k', 'l', 'm', 'n', 'o', 'p', 'q', 'r', 't', 'u', 'v', 'w', 'x', 'y']"
   ]
  },
  {
   "cell_type": "code",
   "execution_count": 13,
   "metadata": {},
   "outputs": [
    {
     "name": "stdout",
     "output_type": "stream",
     "text": [
      "torch.Size([3, 32, 32])\n",
      "DATASET SIZE: 3300\n"
     ]
    }
   ],
   "source": [
    "transform_base = transforms.Compose([\n",
    "    #transforms.Grayscale(num_output_channels=1),\n",
    "    transforms.Resize((32,32)),\n",
    "    transforms.ToTensor(),\n",
    "])\n",
    "\n",
    "data = []\n",
    "\n",
    "for letter in dict_alph:\n",
    "    for dataset in datasets:\n",
    "        sub_folder = os.path.join(dataset, letter)\n",
    "        for img_name in os.listdir(sub_folder):\n",
    "            img_path = os.path.join(sub_folder, img_name)\n",
    "            im0 = transform_base(Image.open(img_path))\n",
    "\n",
    "            label = dict_alph[img_name[0]]\n",
    "            data.append((im0, label))\n",
    "\n",
    "print(data[0][0].shape)  # Should be (1, 64, 64) for grayscale images\n",
    "print(\"DATASET SIZE:\",len(data))"
   ]
  },
  {
   "cell_type": "code",
   "execution_count": 14,
   "metadata": {},
   "outputs": [],
   "source": [
    "train, test = split_train_val_test(data, [0.7, 0.3])"
   ]
  },
  {
   "cell_type": "code",
   "execution_count": 15,
   "metadata": {},
   "outputs": [],
   "source": [
    "train_data = DataLoader(train, batch_size=32, num_workers=2, shuffle=True)\n",
    "test_data = DataLoader(test, batch_size=32, num_workers=2)"
   ]
  },
  {
   "cell_type": "code",
   "execution_count": 16,
   "metadata": {},
   "outputs": [
    {
     "name": "stderr",
     "output_type": "stream",
     "text": [
      "Train Epoch 1/20: 100%|██████████| 73/73 [00:06<00:00, 11.01batch/s, accuracy=0.0403, loss=3.09]\n",
      "Test Epoch 1/20: 100%|██████████| 31/31 [00:03<00:00,  8.11batch/s, accuracy=0.0323, loss=3.08]\n",
      "Train Epoch 2/20: 100%|██████████| 73/73 [00:05<00:00, 13.59batch/s, accuracy=0.302, loss=2.43] \n",
      "Test Epoch 2/20: 100%|██████████| 31/31 [00:03<00:00,  8.96batch/s, accuracy=0.665, loss=1.05]\n",
      "Train Epoch 3/20: 100%|██████████| 73/73 [00:05<00:00, 13.51batch/s, accuracy=0.832, loss=0.624]\n",
      "Test Epoch 3/20: 100%|██████████| 31/31 [00:03<00:00,  8.71batch/s, accuracy=0.863, loss=1.32]\n",
      "Train Epoch 4/20: 100%|██████████| 73/73 [00:05<00:00, 13.41batch/s, accuracy=0.781, loss=0.926]\n",
      "Test Epoch 4/20: 100%|██████████| 31/31 [00:03<00:00,  9.13batch/s, accuracy=0.822, loss=0.657]\n",
      "Train Epoch 5/20: 100%|██████████| 73/73 [00:05<00:00, 13.36batch/s, accuracy=0.36, loss=2.31]  \n",
      "Test Epoch 5/20: 100%|██████████| 31/31 [00:03<00:00,  9.54batch/s, accuracy=0.0475, loss=3.11]\n",
      "Train Epoch 6/20: 100%|██████████| 73/73 [00:05<00:00, 13.39batch/s, accuracy=0.0463, loss=3.14]\n",
      "Test Epoch 6/20: 100%|██████████| 31/31 [00:03<00:00,  7.86batch/s, accuracy=0.0455, loss=3.1] \n",
      "Train Epoch 7/20: 100%|██████████| 73/73 [00:06<00:00, 11.54batch/s, accuracy=0.0485, loss=3.1] \n",
      "Test Epoch 7/20: 100%|██████████| 31/31 [00:03<00:00,  9.81batch/s, accuracy=0.0343, loss=3.12]\n",
      "Train Epoch 8/20: 100%|██████████| 73/73 [00:05<00:00, 13.43batch/s, accuracy=0.0502, loss=3.1] \n",
      "Test Epoch 8/20: 100%|██████████| 31/31 [00:03<00:00,  9.70batch/s, accuracy=0.0343, loss=3.11]\n",
      "Train Epoch 9/20: 100%|██████████| 73/73 [00:05<00:00, 13.28batch/s, accuracy=0.0446, loss=3.1] \n",
      "Test Epoch 9/20: 100%|██████████| 31/31 [00:03<00:00,  9.06batch/s, accuracy=0.0455, loss=3.1] \n",
      "Train Epoch 10/20: 100%|██████████| 73/73 [00:07<00:00,  9.59batch/s, accuracy=0.0429, loss=3.1] \n",
      "Test Epoch 10/20: 100%|██████████| 31/31 [00:04<00:00,  6.74batch/s, accuracy=0.0323, loss=3.1] \n",
      "Train Epoch 11/20: 100%|██████████| 73/73 [00:07<00:00,  9.91batch/s, accuracy=0.042, loss=3.1]  \n",
      "Test Epoch 11/20: 100%|██████████| 31/31 [00:04<00:00,  6.99batch/s, accuracy=0.0343, loss=3.1]\n",
      "Train Epoch 12/20: 100%|██████████| 73/73 [00:06<00:00, 12.06batch/s, accuracy=0.0532, loss=3.09]\n",
      "Test Epoch 12/20: 100%|██████████| 31/31 [00:05<00:00,  5.76batch/s, accuracy=0.0323, loss=3.1]\n",
      "Train Epoch 13/20: 100%|██████████| 73/73 [00:07<00:00,  9.30batch/s, accuracy=0.0511, loss=3.09]\n",
      "Test Epoch 13/20: 100%|██████████| 31/31 [00:05<00:00,  5.29batch/s, accuracy=0.0323, loss=3.1]\n",
      "Train Epoch 14/20: 100%|██████████| 73/73 [00:05<00:00, 12.17batch/s, accuracy=0.0511, loss=3.09]\n",
      "Test Epoch 14/20:   0%|          | 0/31 [00:02<?, ?batch/s]\n"
     ]
    },
    {
     "ename": "KeyboardInterrupt",
     "evalue": "",
     "output_type": "error",
     "traceback": [
      "\u001b[1;31m---------------------------------------------------------------------------\u001b[0m",
      "\u001b[1;31mKeyboardInterrupt\u001b[0m                         Traceback (most recent call last)",
      "Cell \u001b[1;32mIn[16], line 2\u001b[0m\n\u001b[0;32m      1\u001b[0m lenet_color \u001b[38;5;241m=\u001b[39m LeNetColor()\n\u001b[1;32m----> 2\u001b[0m lenet_color \u001b[38;5;241m=\u001b[39m train_classifier(lenet_color, train_data, test_data, exp_name\u001b[38;5;241m=\u001b[39m\u001b[38;5;124m'\u001b[39m\u001b[38;5;124mlenet_color\u001b[39m\u001b[38;5;124m'\u001b[39m, lr\u001b[38;5;241m=\u001b[39m\u001b[38;5;241m0.01\u001b[39m, epochs\u001b[38;5;241m=\u001b[39m\u001b[38;5;241m20\u001b[39m)\n",
      "Cell \u001b[1;32mIn[1], line 38\u001b[0m, in \u001b[0;36mtrain_classifier\u001b[1;34m(model, train_loader, test_loader, exp_name, lr, epochs, momentum, logdir)\u001b[0m\n\u001b[0;32m     36\u001b[0m \u001b[38;5;28;01mwith\u001b[39;00m torch\u001b[38;5;241m.\u001b[39mset_grad_enabled(phase\u001b[38;5;241m==\u001b[39m\u001b[38;5;124m'\u001b[39m\u001b[38;5;124mtrain\u001b[39m\u001b[38;5;124m'\u001b[39m):\n\u001b[0;32m     37\u001b[0m     \u001b[38;5;28;01mwith\u001b[39;00m tqdm\u001b[38;5;241m.\u001b[39mtqdm(\u001b[38;5;28menumerate\u001b[39m(loader[phase]), total\u001b[38;5;241m=\u001b[39m\u001b[38;5;28mlen\u001b[39m(loader[phase]), desc\u001b[38;5;241m=\u001b[39m\u001b[38;5;124mf\u001b[39m\u001b[38;5;124m\"\u001b[39m\u001b[38;5;132;01m{\u001b[39;00mphase\u001b[38;5;241m.\u001b[39mcapitalize()\u001b[38;5;132;01m}\u001b[39;00m\u001b[38;5;124m Epoch \u001b[39m\u001b[38;5;132;01m{\u001b[39;00me\u001b[38;5;241m+\u001b[39m\u001b[38;5;241m1\u001b[39m\u001b[38;5;132;01m}\u001b[39;00m\u001b[38;5;124m/\u001b[39m\u001b[38;5;132;01m{\u001b[39;00mepochs\u001b[38;5;132;01m}\u001b[39;00m\u001b[38;5;124m\"\u001b[39m, unit\u001b[38;5;241m=\u001b[39m\u001b[38;5;124m\"\u001b[39m\u001b[38;5;124mbatch\u001b[39m\u001b[38;5;124m\"\u001b[39m) \u001b[38;5;28;01mas\u001b[39;00m pbar:\n\u001b[1;32m---> 38\u001b[0m         \u001b[38;5;28;01mfor\u001b[39;00m i, batch \u001b[38;5;129;01min\u001b[39;00m pbar:\n\u001b[0;32m     39\u001b[0m             x \u001b[38;5;241m=\u001b[39m batch[\u001b[38;5;241m0\u001b[39m]\u001b[38;5;241m.\u001b[39mto(device)\n\u001b[0;32m     40\u001b[0m             y \u001b[38;5;241m=\u001b[39m batch[\u001b[38;5;241m1\u001b[39m]\u001b[38;5;241m.\u001b[39mto(device)\n",
      "File \u001b[1;32mc:\\Users\\mifer\\Anaconda3\\Lib\\site-packages\\tqdm\\std.py:1178\u001b[0m, in \u001b[0;36mtqdm.__iter__\u001b[1;34m(self)\u001b[0m\n\u001b[0;32m   1175\u001b[0m time \u001b[38;5;241m=\u001b[39m \u001b[38;5;28mself\u001b[39m\u001b[38;5;241m.\u001b[39m_time\n\u001b[0;32m   1177\u001b[0m \u001b[38;5;28;01mtry\u001b[39;00m:\n\u001b[1;32m-> 1178\u001b[0m     \u001b[38;5;28;01mfor\u001b[39;00m obj \u001b[38;5;129;01min\u001b[39;00m iterable:\n\u001b[0;32m   1179\u001b[0m         \u001b[38;5;28;01myield\u001b[39;00m obj\n\u001b[0;32m   1180\u001b[0m         \u001b[38;5;66;03m# Update and possibly print the progressbar.\u001b[39;00m\n\u001b[0;32m   1181\u001b[0m         \u001b[38;5;66;03m# Note: does not call self.update(1) for speed optimisation.\u001b[39;00m\n",
      "File \u001b[1;32mc:\\Users\\mifer\\Anaconda3\\Lib\\site-packages\\torch\\utils\\data\\dataloader.py:631\u001b[0m, in \u001b[0;36m_BaseDataLoaderIter.__next__\u001b[1;34m(self)\u001b[0m\n\u001b[0;32m    628\u001b[0m \u001b[38;5;28;01mif\u001b[39;00m \u001b[38;5;28mself\u001b[39m\u001b[38;5;241m.\u001b[39m_sampler_iter \u001b[38;5;129;01mis\u001b[39;00m \u001b[38;5;28;01mNone\u001b[39;00m:\n\u001b[0;32m    629\u001b[0m     \u001b[38;5;66;03m# TODO(https://github.com/pytorch/pytorch/issues/76750)\u001b[39;00m\n\u001b[0;32m    630\u001b[0m     \u001b[38;5;28mself\u001b[39m\u001b[38;5;241m.\u001b[39m_reset()  \u001b[38;5;66;03m# type: ignore[call-arg]\u001b[39;00m\n\u001b[1;32m--> 631\u001b[0m data \u001b[38;5;241m=\u001b[39m \u001b[38;5;28mself\u001b[39m\u001b[38;5;241m.\u001b[39m_next_data()\n\u001b[0;32m    632\u001b[0m \u001b[38;5;28mself\u001b[39m\u001b[38;5;241m.\u001b[39m_num_yielded \u001b[38;5;241m+\u001b[39m\u001b[38;5;241m=\u001b[39m \u001b[38;5;241m1\u001b[39m\n\u001b[0;32m    633\u001b[0m \u001b[38;5;28;01mif\u001b[39;00m \u001b[38;5;28mself\u001b[39m\u001b[38;5;241m.\u001b[39m_dataset_kind \u001b[38;5;241m==\u001b[39m _DatasetKind\u001b[38;5;241m.\u001b[39mIterable \u001b[38;5;129;01mand\u001b[39;00m \\\n\u001b[0;32m    634\u001b[0m         \u001b[38;5;28mself\u001b[39m\u001b[38;5;241m.\u001b[39m_IterableDataset_len_called \u001b[38;5;129;01mis\u001b[39;00m \u001b[38;5;129;01mnot\u001b[39;00m \u001b[38;5;28;01mNone\u001b[39;00m \u001b[38;5;129;01mand\u001b[39;00m \\\n\u001b[0;32m    635\u001b[0m         \u001b[38;5;28mself\u001b[39m\u001b[38;5;241m.\u001b[39m_num_yielded \u001b[38;5;241m>\u001b[39m \u001b[38;5;28mself\u001b[39m\u001b[38;5;241m.\u001b[39m_IterableDataset_len_called:\n",
      "File \u001b[1;32mc:\\Users\\mifer\\Anaconda3\\Lib\\site-packages\\torch\\utils\\data\\dataloader.py:1329\u001b[0m, in \u001b[0;36m_MultiProcessingDataLoaderIter._next_data\u001b[1;34m(self)\u001b[0m\n\u001b[0;32m   1326\u001b[0m     \u001b[38;5;28;01mreturn\u001b[39;00m \u001b[38;5;28mself\u001b[39m\u001b[38;5;241m.\u001b[39m_process_data(data)\n\u001b[0;32m   1328\u001b[0m \u001b[38;5;28;01massert\u001b[39;00m \u001b[38;5;129;01mnot\u001b[39;00m \u001b[38;5;28mself\u001b[39m\u001b[38;5;241m.\u001b[39m_shutdown \u001b[38;5;129;01mand\u001b[39;00m \u001b[38;5;28mself\u001b[39m\u001b[38;5;241m.\u001b[39m_tasks_outstanding \u001b[38;5;241m>\u001b[39m \u001b[38;5;241m0\u001b[39m\n\u001b[1;32m-> 1329\u001b[0m idx, data \u001b[38;5;241m=\u001b[39m \u001b[38;5;28mself\u001b[39m\u001b[38;5;241m.\u001b[39m_get_data()\n\u001b[0;32m   1330\u001b[0m \u001b[38;5;28mself\u001b[39m\u001b[38;5;241m.\u001b[39m_tasks_outstanding \u001b[38;5;241m-\u001b[39m\u001b[38;5;241m=\u001b[39m \u001b[38;5;241m1\u001b[39m\n\u001b[0;32m   1331\u001b[0m \u001b[38;5;28;01mif\u001b[39;00m \u001b[38;5;28mself\u001b[39m\u001b[38;5;241m.\u001b[39m_dataset_kind \u001b[38;5;241m==\u001b[39m _DatasetKind\u001b[38;5;241m.\u001b[39mIterable:\n\u001b[0;32m   1332\u001b[0m     \u001b[38;5;66;03m# Check for _IterableDatasetStopIteration\u001b[39;00m\n",
      "File \u001b[1;32mc:\\Users\\mifer\\Anaconda3\\Lib\\site-packages\\torch\\utils\\data\\dataloader.py:1295\u001b[0m, in \u001b[0;36m_MultiProcessingDataLoaderIter._get_data\u001b[1;34m(self)\u001b[0m\n\u001b[0;32m   1291\u001b[0m     \u001b[38;5;66;03m# In this case, `self._data_queue` is a `queue.Queue`,. But we don't\u001b[39;00m\n\u001b[0;32m   1292\u001b[0m     \u001b[38;5;66;03m# need to call `.task_done()` because we don't use `.join()`.\u001b[39;00m\n\u001b[0;32m   1293\u001b[0m \u001b[38;5;28;01melse\u001b[39;00m:\n\u001b[0;32m   1294\u001b[0m     \u001b[38;5;28;01mwhile\u001b[39;00m \u001b[38;5;28;01mTrue\u001b[39;00m:\n\u001b[1;32m-> 1295\u001b[0m         success, data \u001b[38;5;241m=\u001b[39m \u001b[38;5;28mself\u001b[39m\u001b[38;5;241m.\u001b[39m_try_get_data()\n\u001b[0;32m   1296\u001b[0m         \u001b[38;5;28;01mif\u001b[39;00m success:\n\u001b[0;32m   1297\u001b[0m             \u001b[38;5;28;01mreturn\u001b[39;00m data\n",
      "File \u001b[1;32mc:\\Users\\mifer\\Anaconda3\\Lib\\site-packages\\torch\\utils\\data\\dataloader.py:1133\u001b[0m, in \u001b[0;36m_MultiProcessingDataLoaderIter._try_get_data\u001b[1;34m(self, timeout)\u001b[0m\n\u001b[0;32m   1120\u001b[0m \u001b[38;5;28;01mdef\u001b[39;00m \u001b[38;5;21m_try_get_data\u001b[39m(\u001b[38;5;28mself\u001b[39m, timeout\u001b[38;5;241m=\u001b[39m_utils\u001b[38;5;241m.\u001b[39mMP_STATUS_CHECK_INTERVAL):\n\u001b[0;32m   1121\u001b[0m     \u001b[38;5;66;03m# Tries to fetch data from `self._data_queue` once for a given timeout.\u001b[39;00m\n\u001b[0;32m   1122\u001b[0m     \u001b[38;5;66;03m# This can also be used as inner loop of fetching without timeout, with\u001b[39;00m\n\u001b[1;32m   (...)\u001b[0m\n\u001b[0;32m   1130\u001b[0m     \u001b[38;5;66;03m# Returns a 2-tuple:\u001b[39;00m\n\u001b[0;32m   1131\u001b[0m     \u001b[38;5;66;03m#   (bool: whether successfully get data, any: data if successful else None)\u001b[39;00m\n\u001b[0;32m   1132\u001b[0m     \u001b[38;5;28;01mtry\u001b[39;00m:\n\u001b[1;32m-> 1133\u001b[0m         data \u001b[38;5;241m=\u001b[39m \u001b[38;5;28mself\u001b[39m\u001b[38;5;241m.\u001b[39m_data_queue\u001b[38;5;241m.\u001b[39mget(timeout\u001b[38;5;241m=\u001b[39mtimeout)\n\u001b[0;32m   1134\u001b[0m         \u001b[38;5;28;01mreturn\u001b[39;00m (\u001b[38;5;28;01mTrue\u001b[39;00m, data)\n\u001b[0;32m   1135\u001b[0m     \u001b[38;5;28;01mexcept\u001b[39;00m \u001b[38;5;167;01mException\u001b[39;00m \u001b[38;5;28;01mas\u001b[39;00m e:\n\u001b[0;32m   1136\u001b[0m         \u001b[38;5;66;03m# At timeout and error, we manually check whether any worker has\u001b[39;00m\n\u001b[0;32m   1137\u001b[0m         \u001b[38;5;66;03m# failed. Note that this is the only mechanism for Windows to detect\u001b[39;00m\n\u001b[0;32m   1138\u001b[0m         \u001b[38;5;66;03m# worker failures.\u001b[39;00m\n",
      "File \u001b[1;32mc:\\Users\\mifer\\Anaconda3\\Lib\\multiprocessing\\queues.py:113\u001b[0m, in \u001b[0;36mQueue.get\u001b[1;34m(self, block, timeout)\u001b[0m\n\u001b[0;32m    111\u001b[0m \u001b[38;5;28;01mif\u001b[39;00m block:\n\u001b[0;32m    112\u001b[0m     timeout \u001b[38;5;241m=\u001b[39m deadline \u001b[38;5;241m-\u001b[39m time\u001b[38;5;241m.\u001b[39mmonotonic()\n\u001b[1;32m--> 113\u001b[0m     \u001b[38;5;28;01mif\u001b[39;00m \u001b[38;5;129;01mnot\u001b[39;00m \u001b[38;5;28mself\u001b[39m\u001b[38;5;241m.\u001b[39m_poll(timeout):\n\u001b[0;32m    114\u001b[0m         \u001b[38;5;28;01mraise\u001b[39;00m Empty\n\u001b[0;32m    115\u001b[0m \u001b[38;5;28;01melif\u001b[39;00m \u001b[38;5;129;01mnot\u001b[39;00m \u001b[38;5;28mself\u001b[39m\u001b[38;5;241m.\u001b[39m_poll():\n",
      "File \u001b[1;32mc:\\Users\\mifer\\Anaconda3\\Lib\\multiprocessing\\connection.py:256\u001b[0m, in \u001b[0;36m_ConnectionBase.poll\u001b[1;34m(self, timeout)\u001b[0m\n\u001b[0;32m    254\u001b[0m \u001b[38;5;28mself\u001b[39m\u001b[38;5;241m.\u001b[39m_check_closed()\n\u001b[0;32m    255\u001b[0m \u001b[38;5;28mself\u001b[39m\u001b[38;5;241m.\u001b[39m_check_readable()\n\u001b[1;32m--> 256\u001b[0m \u001b[38;5;28;01mreturn\u001b[39;00m \u001b[38;5;28mself\u001b[39m\u001b[38;5;241m.\u001b[39m_poll(timeout)\n",
      "File \u001b[1;32mc:\\Users\\mifer\\Anaconda3\\Lib\\multiprocessing\\connection.py:329\u001b[0m, in \u001b[0;36mPipeConnection._poll\u001b[1;34m(self, timeout)\u001b[0m\n\u001b[0;32m    326\u001b[0m \u001b[38;5;28;01mif\u001b[39;00m (\u001b[38;5;28mself\u001b[39m\u001b[38;5;241m.\u001b[39m_got_empty_message \u001b[38;5;129;01mor\u001b[39;00m\n\u001b[0;32m    327\u001b[0m             _winapi\u001b[38;5;241m.\u001b[39mPeekNamedPipe(\u001b[38;5;28mself\u001b[39m\u001b[38;5;241m.\u001b[39m_handle)[\u001b[38;5;241m0\u001b[39m] \u001b[38;5;241m!=\u001b[39m \u001b[38;5;241m0\u001b[39m):\n\u001b[0;32m    328\u001b[0m     \u001b[38;5;28;01mreturn\u001b[39;00m \u001b[38;5;28;01mTrue\u001b[39;00m\n\u001b[1;32m--> 329\u001b[0m \u001b[38;5;28;01mreturn\u001b[39;00m \u001b[38;5;28mbool\u001b[39m(wait([\u001b[38;5;28mself\u001b[39m], timeout))\n",
      "File \u001b[1;32mc:\\Users\\mifer\\Anaconda3\\Lib\\multiprocessing\\connection.py:878\u001b[0m, in \u001b[0;36mwait\u001b[1;34m(object_list, timeout)\u001b[0m\n\u001b[0;32m    875\u001b[0m                 ready_objects\u001b[38;5;241m.\u001b[39madd(o)\n\u001b[0;32m    876\u001b[0m                 timeout \u001b[38;5;241m=\u001b[39m \u001b[38;5;241m0\u001b[39m\n\u001b[1;32m--> 878\u001b[0m     ready_handles \u001b[38;5;241m=\u001b[39m _exhaustive_wait(waithandle_to_obj\u001b[38;5;241m.\u001b[39mkeys(), timeout)\n\u001b[0;32m    879\u001b[0m \u001b[38;5;28;01mfinally\u001b[39;00m:\n\u001b[0;32m    880\u001b[0m     \u001b[38;5;66;03m# request that overlapped reads stop\u001b[39;00m\n\u001b[0;32m    881\u001b[0m     \u001b[38;5;28;01mfor\u001b[39;00m ov \u001b[38;5;129;01min\u001b[39;00m ov_list:\n",
      "File \u001b[1;32mc:\\Users\\mifer\\Anaconda3\\Lib\\multiprocessing\\connection.py:810\u001b[0m, in \u001b[0;36m_exhaustive_wait\u001b[1;34m(handles, timeout)\u001b[0m\n\u001b[0;32m    808\u001b[0m ready \u001b[38;5;241m=\u001b[39m []\n\u001b[0;32m    809\u001b[0m \u001b[38;5;28;01mwhile\u001b[39;00m L:\n\u001b[1;32m--> 810\u001b[0m     res \u001b[38;5;241m=\u001b[39m _winapi\u001b[38;5;241m.\u001b[39mWaitForMultipleObjects(L, \u001b[38;5;28;01mFalse\u001b[39;00m, timeout)\n\u001b[0;32m    811\u001b[0m     \u001b[38;5;28;01mif\u001b[39;00m res \u001b[38;5;241m==\u001b[39m WAIT_TIMEOUT:\n\u001b[0;32m    812\u001b[0m         \u001b[38;5;28;01mbreak\u001b[39;00m\n",
      "\u001b[1;31mKeyboardInterrupt\u001b[0m: "
     ]
    }
   ],
   "source": [
    "lenet_color = LeNetColor()\n",
    "lenet_color = train_classifier(lenet_color, train_data, test_data, exp_name='lenet_color', lr=0.01, epochs=20)"
   ]
  },
  {
   "cell_type": "code",
   "execution_count": null,
   "metadata": {},
   "outputs": [],
   "source": [
    "# calcoliamo l'accuracy di test\n",
    "lenet_color_predictions_test, lenet_color_labels_test = test_classifier(lenet_color, test_data)\n",
    "print(\"Accuracy LeNetColor su CIFAR100 test: %0.2f%%\"%(accuracy_score(lenet_color_labels_test, lenet_color_predictions_test)))"
   ]
  },
  {
   "cell_type": "code",
   "execution_count": null,
   "metadata": {},
   "outputs": [],
   "source": [
    "torch.save(lenet_color, \"lenet_color_lr01_ep20\" + '.pt')"
   ]
  },
  {
   "cell_type": "code",
   "execution_count": null,
   "metadata": {},
   "outputs": [],
   "source": [
    "# Alleniamo il modello\n",
    "mini_alex_net = MiniAlexNet()\n",
    "mini_alex_net = train_classifier(mini_alex_net, train_data, test_data, exp_name='mini_alex_net', lr=0.01, epochs=30)"
   ]
  },
  {
   "cell_type": "code",
   "execution_count": null,
   "metadata": {},
   "outputs": [],
   "source": [
    "# calcoliamo l'accuracy di test\n",
    "mini_alex_net_predictions_test, mini_alex_net_labels_test = test_classifier(mini_alex_net, test_data)\n",
    "print(\"Accuracy LeNetColor su CIFAR100 test: %0.2f%%\"%(accuracy_score(mini_alex_net_labels_test, mini_alex_net_predictions_test)))"
   ]
  },
  {
   "cell_type": "code",
   "execution_count": null,
   "metadata": {},
   "outputs": [],
   "source": [
    "torch.save(mini_alex_net, \"mini_alex_net_lr01_ep30\" + '.pt')"
   ]
  }
 ],
 "metadata": {
  "kernelspec": {
   "display_name": "base",
   "language": "python",
   "name": "python3"
  },
  "language_info": {
   "codemirror_mode": {
    "name": "ipython",
    "version": 3
   },
   "file_extension": ".py",
   "mimetype": "text/x-python",
   "name": "python",
   "nbconvert_exporter": "python",
   "pygments_lexer": "ipython3",
   "version": "3.11.5"
  }
 },
 "nbformat": 4,
 "nbformat_minor": 2
}
